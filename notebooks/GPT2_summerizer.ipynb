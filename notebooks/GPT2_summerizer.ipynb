{
 "cells": [
  {
   "cell_type": "code",
   "execution_count": 1,
   "metadata": {
    "tags": []
   },
   "outputs": [],
   "source": [
    "import sys\n",
    "\n",
    "import numpy as np\n",
    "\n",
    "import torch\n",
    "import torch.nn as nn\n",
    "import torch.nn.functional as F\n",
    "from torch.utils.data import DataLoader\n",
    "from torch.optim import AdamW\n",
    "from torch.nn.utils.rnn import pad_sequence\n",
    "from torch.nn.functional import cross_entropy\n",
    "\n",
    "from pytorch_lightning import Trainer\n",
    "from pytorch_lightning.callbacks import EarlyStopping, LearningRateMonitor, ModelCheckpoint\n",
    "import pytorch_lightning as pl\n",
    "from pytorch_lightning import LightningModule\n",
    "\n",
    "from transformers import AutoTokenizer\n",
    "from transformers import GPT2Tokenizer\n",
    "from transformers import get_linear_schedule_with_warmup\n",
    "from transformers import GPT2LMHeadModel\n",
    "from datasets import load_dataset, Dataset, DatasetDict\n",
    "\n",
    "from tqdm import tnrange\n",
    "\n",
    "import matplotlib.pyplot as plt\n",
    "\n",
    "from evaluate import load\n",
    "\n",
    "import bert_score\n"
   ]
  },
  {
   "cell_type": "markdown",
   "metadata": {
    "tags": []
   },
   "source": [
    "## Data"
   ]
  },
  {
   "cell_type": "code",
   "execution_count": 2,
   "metadata": {
    "tags": []
   },
   "outputs": [],
   "source": [
    "class XSumPreprocessor:\n",
    "    def __init__(self, tokenizer, max_length):\n",
    "        self.tokenizer = tokenizer\n",
    "        self.max_length = max_length\n",
    "\n",
    "        # Add special tokens to the tokenizer\n",
    "        self.special_tokens_dict = {'bos_token': '<bos>', 'eos_token': '<eos>', 'sep_token': '<sep>', 'pad_token': '<pad>'}\n",
    "        self.num_added_toks = self.tokenizer.add_special_tokens(self.special_tokens_dict)\n",
    "    def preprocess(self, example):\n",
    "        # Concatenate article and summary and add special tokens\n",
    "        encoded_example = tokenizer.encode_plus(\n",
    "            f'{self.special_tokens_dict[\"bos_token\"]} {example[\"document\"]} {self.special_tokens_dict[\"sep_token\"]} {example[\"summary\"]} {self.special_tokens_dict[\"eos_token\"]}',\n",
    "            truncation=True,\n",
    "            padding='max_length',\n",
    "            max_length=self.max_length\n",
    "        )\n",
    "\n",
    "        return encoded_example\n",
    "\n",
    "    def filter(self, dataset):\n",
    "        dataset = [sample for sample in dataset if self.tokenizer.sep_token_id in sample['input_ids']]\n",
    "        return dataset"
   ]
  },
  {
   "cell_type": "code",
   "execution_count": 3,
   "metadata": {
    "tags": []
   },
   "outputs": [
    {
     "name": "stderr",
     "output_type": "stream",
     "text": [
      "Found cached dataset xsum (/home/studio-lab-user/.cache/huggingface/datasets/xsum/default/1.2.0/082863bf4754ee058a5b6f6525d0cb2b18eadb62c7b370b095d1364050a52b71)\n"
     ]
    },
    {
     "data": {
      "application/vnd.jupyter.widget-view+json": {
       "model_id": "31cd85bc322f46d9941f3bf34893b6b6",
       "version_major": 2,
       "version_minor": 0
      },
      "text/plain": [
       "  0%|          | 0/3 [00:00<?, ?it/s]"
      ]
     },
     "metadata": {},
     "output_type": "display_data"
    },
    {
     "name": "stderr",
     "output_type": "stream",
     "text": [
      "Found cached dataset xsum (/home/studio-lab-user/.cache/huggingface/datasets/xsum/default/1.2.0/082863bf4754ee058a5b6f6525d0cb2b18eadb62c7b370b095d1364050a52b71)\n",
      "Found cached dataset xsum (/home/studio-lab-user/.cache/huggingface/datasets/xsum/default/1.2.0/082863bf4754ee058a5b6f6525d0cb2b18eadb62c7b370b095d1364050a52b71)\n",
      "Found cached dataset xsum (/home/studio-lab-user/.cache/huggingface/datasets/xsum/default/1.2.0/082863bf4754ee058a5b6f6525d0cb2b18eadb62c7b370b095d1364050a52b71)\n",
      "Loading cached processed dataset at /home/studio-lab-user/.cache/huggingface/datasets/xsum/default/1.2.0/082863bf4754ee058a5b6f6525d0cb2b18eadb62c7b370b095d1364050a52b71/cache-f7cfd4753b2ff669.arrow\n",
      "Loading cached processed dataset at /home/studio-lab-user/.cache/huggingface/datasets/xsum/default/1.2.0/082863bf4754ee058a5b6f6525d0cb2b18eadb62c7b370b095d1364050a52b71/cache-fed812113622a2f8.arrow\n",
      "Loading cached processed dataset at /home/studio-lab-user/.cache/huggingface/datasets/xsum/default/1.2.0/082863bf4754ee058a5b6f6525d0cb2b18eadb62c7b370b095d1364050a52b71/cache-07fddc0ce59e52fa.arrow\n"
     ]
    }
   ],
   "source": [
    "# Load pre-trained model tokenizer (vocabulary)\n",
    "tokenizer = GPT2Tokenizer.from_pretrained('gpt2')\n",
    "max_length=1024\n",
    "\n",
    "preprocessor = XSumPreprocessor(\n",
    "                tokenizer = tokenizer,\n",
    "                max_length = max_length\n",
    ")\n",
    "\n",
    "# Load XSum dataset\n",
    "xsum_dataset = load_dataset('xsum')\n",
    "\n",
    "use_percent = 100\n",
    "# dataset_train = load_dataset(\"xsum\", split=f\"train[:{use_percent}%]\")\n",
    "# dataset_val = load_dataset(\"xsum\", split=f\"validation[:{use_percent*2}%]\")\n",
    "# dataset_test = load_dataset(\"xsum\", split=f\"test[:{use_percent*2}%]\")\n",
    "dataset_train = load_dataset(\"xsum\", split=f\"train[:{use_percent}]\")\n",
    "dataset_val = load_dataset(\"xsum\", split=f\"validation[:{use_percent}]\")\n",
    "dataset_test = load_dataset(\"xsum\", split=f\"test[:{use_percent}]\")\n",
    "\n",
    "dataset = DatasetDict({'train': dataset_train, 'validation': dataset_val, 'test': dataset_test})\n",
    "\n",
    "# Apply the function to all examples in the dataset\n",
    "xsum_dataset = dataset.map(preprocessor.preprocess, remove_columns=['document', 'summary'])\n",
    "# Format the dataset to PyTorch tensors and split into training, validation, and test sets\n",
    "xsum_dataset.set_format(type='torch', columns=['input_ids', 'attention_mask'])\n",
    "\n",
    "train_dataset = preprocessor.filter(xsum_dataset['train'])\n",
    "val_dataset = preprocessor.filter(xsum_dataset['validation'])\n",
    "test_dataset = xsum_dataset['test']\n"
   ]
  },
  {
   "cell_type": "markdown",
   "metadata": {
    "tags": []
   },
   "source": [
    "## Model"
   ]
  },
  {
   "cell_type": "code",
   "execution_count": 4,
   "metadata": {
    "tags": []
   },
   "outputs": [],
   "source": [
    "### TODO: Save losses while training ###\n",
    "### TODO: Add Checkpointing ###\n",
    "\n",
    "\n",
    "class GPT2FineTuner(LightningModule):\n",
    "    def __init__(self, tokenizer):\n",
    "        super().__init__()\n",
    "        \n",
    "        self.model = GPT2LMHeadModel.from_pretrained(\"gpt2\")\n",
    "        # Resize token embeddings in case you have added more tokens in the vocab\n",
    "        self.tokenizer = tokenizer\n",
    "        self.model.resize_token_embeddings(len(self.tokenizer))\n",
    "        self.train_losses = []\n",
    "        self.validation_losses = []\n",
    "        \n",
    "        self.train_losses_epoch=[]\n",
    "        self.validation_losses_epoch=[]\n",
    "        \n",
    "        self.save_hyperparameters()\n",
    "\n",
    "    def forward(self, input_ids, attention_mask=None):\n",
    "        return self.model(input_ids, attention_mask=attention_mask)\n",
    "\n",
    "    def training_step(self, batch, batch_nb):\n",
    "        input_ids, attention_mask = batch['input_ids'], batch['attention_mask']\n",
    "        sep_positions = (input_ids == tokenizer.sep_token_id).nonzero(as_tuple=False)\n",
    "        # Forward pass\n",
    "        outputs = self(input_ids, attention_mask=attention_mask)\n",
    "        logits = outputs.logits\n",
    "\n",
    "        # Calculate loss only on the reference summary\n",
    "        loss = 0\n",
    "        for i, sep_position in enumerate(sep_positions):\n",
    "            sep_position = sep_position[1]  # Use the single element from the tensor\n",
    "            shift_logits = logits[i, sep_position:-1,:].contiguous()\n",
    "            shift_labels = input_ids[i, sep_position+1:].contiguous()\n",
    "            loss_calculation = cross_entropy(shift_logits.view(-1, shift_logits.size(-1)), shift_labels.view(-1))\n",
    "            loss += loss_calculation if not torch.isnan(loss_calculation) else 0\n",
    "\n",
    "        loss = loss / len(sep_positions)  # average loss\n",
    "        self.train_losses.append(loss)\n",
    "        self.log('loss', loss, on_step=False, on_epoch=True, prog_bar=True, logger=True)\n",
    "\n",
    "        return {'loss': loss}\n",
    "\n",
    "    def validation_step(self, batch, batch_nb):\n",
    "        input_ids, attention_mask = batch['input_ids'], batch['attention_mask']\n",
    "        sep_positions = (input_ids == tokenizer.sep_token_id).nonzero(as_tuple=False)\n",
    "        # Forward pass\n",
    "        outputs = self(input_ids, attention_mask=attention_mask)\n",
    "        logits = outputs.logits\n",
    "\n",
    "       # Calculate loss only on the reference summary\n",
    "        val_loss = 0\n",
    "        for i, sep_position in enumerate(sep_positions):\n",
    "            sep_position = sep_position[1] # Use the single element from the tensor\n",
    "            shift_logits = logits[i, sep_position:-1, :].contiguous()\n",
    "            shift_labels = input_ids[i, sep_position+1:].contiguous()\n",
    "            val_loss += cross_entropy(shift_logits.view(-1, shift_logits.size(-1)), shift_labels.view(-1))\n",
    "        val_loss = val_loss / len(sep_positions)  # average loss\n",
    "        self.validation_losses.append(val_loss)\n",
    "        self.log('val_loss', val_loss, on_step=False, on_epoch=True, prog_bar=True, logger=True)\n",
    "\n",
    "        return {'val_loss': val_loss}\n",
    "    \n",
    "    def generate(self, input_ids, max_new_tokens=30, device = torch.device('cuda' if torch.cuda.is_available() else 'cpu'), max_length=1024):\n",
    "        input_ids=input_ids.clone().detach().reshape((1,-1)).to(device)\n",
    "        return self.model.generate(input_ids, pad_token_id = self.tokenizer.pad_token_id, max_length=max_length)\n",
    "\n",
    "    def on_train_epoch_end(self):\n",
    "        # Calculate average loss for the epoch and append to the list\n",
    "        avg_train_loss = sum(self.train_losses)/ len(self.train_losses)\n",
    "        self.train_losses_epoch.append(avg_train_loss.item())\n",
    "\n",
    "        # Reset epoch loss accumulator\n",
    "        self.train_losses = []\n",
    "\n",
    "    def on_validation_epoch_end(self):\n",
    "        # Calculate average loss for the epoch and append to the list\n",
    "        avg_val_loss = sum(self.validation_losses) / len(self.validation_losses)\n",
    "        self.validation_losses_epoch.append(avg_val_loss.item())\n",
    "\n",
    "        # Reset epoch loss accumulator\n",
    "        self.validation_losses = []\n",
    "\n",
    "    def push_to_hub(self, model_name, organization):\n",
    "        # Save the model\n",
    "        self.model.push_to_hub(model_name, organization)\n",
    "\n",
    "    def configure_optimizers(self):\n",
    "        return AdamW(self.parameters(), lr=1e-4)\n",
    "\n",
    "    def train_dataloader(self):\n",
    "        return DataLoader(train_dataset, batch_size=2, shuffle=True, num_workers=4)\n",
    "\n",
    "    def val_dataloader(self):\n",
    "        return DataLoader(val_dataset, batch_size=2, num_workers=4)\n",
    "    "
   ]
  },
  {
   "cell_type": "code",
   "execution_count": 5,
   "metadata": {
    "tags": []
   },
   "outputs": [
    {
     "name": "stderr",
     "output_type": "stream",
     "text": [
      "GPU available: True (cuda), used: True\n",
      "TPU available: False, using: 0 TPU cores\n",
      "IPU available: False, using: 0 IPUs\n",
      "HPU available: False, using: 0 HPUs\n",
      "/home/studio-lab-user/.conda/envs/default/lib/python3.9/site-packages/pytorch_lightning/callbacks/model_checkpoint.py:612: UserWarning: Checkpoint directory /home/studio-lab-user/dev/TextpressoMachine/notebooks/saved/saved_checkpoints exists and is not empty.\n",
      "  rank_zero_warn(f\"Checkpoint directory {dirpath} exists and is not empty.\")\n",
      "LOCAL_RANK: 0 - CUDA_VISIBLE_DEVICES: [0]\n",
      "\n",
      "  | Name  | Type            | Params\n",
      "------------------------------------------\n",
      "0 | model | GPT2LMHeadModel | 124 M \n",
      "------------------------------------------\n",
      "124 M     Trainable params\n",
      "0         Non-trainable params\n",
      "124 M     Total params\n",
      "497.772   Total estimated model params size (MB)\n"
     ]
    },
    {
     "data": {
      "application/vnd.jupyter.widget-view+json": {
       "model_id": "",
       "version_major": 2,
       "version_minor": 0
      },
      "text/plain": [
       "Sanity Checking: 0it [00:00, ?it/s]"
      ]
     },
     "metadata": {},
     "output_type": "display_data"
    },
    {
     "name": "stderr",
     "output_type": "stream",
     "text": [
      "/home/studio-lab-user/.conda/envs/default/lib/python3.9/site-packages/pytorch_lightning/loops/fit_loop.py:280: PossibleUserWarning: The number of training batches (46) is smaller than the logging interval Trainer(log_every_n_steps=50). Set a lower value for log_every_n_steps if you want to see logs for the training epoch.\n",
      "  rank_zero_warn(\n"
     ]
    },
    {
     "data": {
      "application/vnd.jupyter.widget-view+json": {
       "model_id": "55febecd064b429fb23902a997d4a908",
       "version_major": 2,
       "version_minor": 0
      },
      "text/plain": [
       "Training: 0it [00:00, ?it/s]"
      ]
     },
     "metadata": {},
     "output_type": "display_data"
    },
    {
     "data": {
      "application/vnd.jupyter.widget-view+json": {
       "model_id": "",
       "version_major": 2,
       "version_minor": 0
      },
      "text/plain": [
       "Validation: 0it [00:00, ?it/s]"
      ]
     },
     "metadata": {},
     "output_type": "display_data"
    },
    {
     "data": {
      "application/vnd.jupyter.widget-view+json": {
       "model_id": "",
       "version_major": 2,
       "version_minor": 0
      },
      "text/plain": [
       "Validation: 0it [00:00, ?it/s]"
      ]
     },
     "metadata": {},
     "output_type": "display_data"
    },
    {
     "data": {
      "application/vnd.jupyter.widget-view+json": {
       "model_id": "",
       "version_major": 2,
       "version_minor": 0
      },
      "text/plain": [
       "Validation: 0it [00:00, ?it/s]"
      ]
     },
     "metadata": {},
     "output_type": "display_data"
    },
    {
     "name": "stderr",
     "output_type": "stream",
     "text": [
      "`Trainer.fit` stopped: `max_epochs=3` reached.\n"
     ]
    }
   ],
   "source": [
    "model = GPT2FineTuner(tokenizer)\n",
    "\n",
    "# Define the checkpoint callback\n",
    "checkpoint_callback = ModelCheckpoint(\n",
    "    monitor='val_loss',  # Choose your metric here\n",
    "    dirpath='./saved/saved_checkpoints/',\n",
    "    filename='GPT2FineTuner-{epoch:02d}-{val_loss:.2f}',\n",
    "    save_top_k=1,\n",
    "    mode='min',  # or 'max', depending on what you want to monitor\n",
    ")\n",
    "\n",
    "trainer = Trainer(max_epochs=3, callbacks=[checkpoint_callback])\n",
    "trainer.fit(model)\n",
    "\n",
    "### NB: Will workd once losses are saved ###\n",
    "#print('training loss', model.train_losses)\n",
    "#print('validation loss', model.validation_losses)"
   ]
  },
  {
   "cell_type": "markdown",
   "metadata": {},
   "source": [
    "## plotting the results"
   ]
  },
  {
   "cell_type": "code",
   "execution_count": 6,
   "metadata": {},
   "outputs": [
    {
     "data": {
      "image/png": "[encoded data removed]",
      "text/plain": [
       "<Figure size 640x480 with 1 Axes>"
      ]
     },
     "metadata": {},
     "output_type": "display_data"
    }
   ],
   "source": [
    "# Plotting the losses\n",
    "train_losses= model.train_losses_epoch\n",
    "validation_losses= model.validation_losses_epoch\n",
    "plt.plot(train_losses, label='Training Loss')\n",
    "plt.plot(validation_losses[1:], label='Validation Loss')\n",
    "\n",
    "# Adding labels and title\n",
    "plt.xlabel('Epoch')\n",
    "plt.ylabel('Loss')\n",
    "plt.title('T5: Losses over Epochs')\n",
    "\n",
    "# Adding legend\n",
    "plt.legend()\n",
    "\n",
    "plt.savefig('losses_plot.png')\n",
    "# Displaying the plot\n",
    "plt.show()"
   ]
  },
  {
   "cell_type": "markdown",
   "metadata": {},
   "source": [
    "epoch0: val_loss 0.167\n",
    "epoch1: val_loss 0.163\n",
    "epoch2: val_loss 0.165\n",
    "epoch3: val_loss 0.174\n",
    "epoch4: val_loss "
   ]
  },
  {
   "cell_type": "code",
   "execution_count": 7,
   "metadata": {
    "tags": []
   },
   "outputs": [],
   "source": [
    "# Save the tokenizer\n",
    "tokenizer.save_pretrained(\"./saved/tokenizers/\")\n",
    "\n",
    "# The best model is saved at the path:\n",
    "checkpoint_path = checkpoint_callback.best_model_path\n",
    "# model = GPT2FineTuner.load_from_checkpoint(checkpoint_path)\n",
    "# model.eval()\n",
    "gpt2_summarizer = model"
   ]
  },
  {
   "cell_type": "markdown",
   "metadata": {
    "tags": []
   },
   "source": [
    "# Inference"
   ]
  },
  {
   "cell_type": "code",
   "execution_count": 8,
   "metadata": {
    "tags": []
   },
   "outputs": [],
   "source": [
    "def summarize(model, text, length, device):\n",
    "    ## From the blog ##\n",
    "    text = torch.tensor(text, dtype=torch.long, device=device)\n",
    "    text = text.unsqueeze(0)\n",
    "    generated = text\n",
    "    model = model.to(device)\n",
    "    with torch.no_grad():\n",
    "        for _ in tnrange(length):\n",
    "            inputs = {'input_ids': generated}\n",
    "            outputs = model(**inputs)\n",
    "            next_token_logits = outputs[0][0, -1, :]\n",
    "            next_token = torch.multinomial(F.softmax(next_token_logits, dim=-1), num_samples=1)\n",
    "            generated = torch.cat((generated, next_token.unsqueeze(0)), dim=1)\n",
    "    return generated\n",
    "\n"
   ]
  },
  {
   "cell_type": "code",
   "execution_count": 9,
   "metadata": {
    "tags": []
   },
   "outputs": [],
   "source": [
    "def sample_seq(model, context, length, device, temperature=1, top_k=0, top_p=0.0):\n",
    "    \"\"\" Generates a sequence of tokens \n",
    "        Args:\n",
    "            model: gpt/gpt2 model\n",
    "            context: tokenized text using gpt/gpt2 tokenizer\n",
    "            length: length of generated sequence.\n",
    "            device: torch.device object.\n",
    "            temperature >0: used to control the randomness of predictions by scaling the logits before applying softmax.\n",
    "            top_k > 0: keep only top k tokens with highest probability (top-k filtering).\n",
    "            top_p > 0.0: keep the top tokens with cumulative probability >= top_p (nucleus filtering).\n",
    "    \"\"\"\n",
    "    context = torch.tensor(context, dtype=torch.long, device=device)\n",
    "    context = context.unsqueeze(0)\n",
    "    generated = context\n",
    "    model = model.to(device)\n",
    "    print(context.device, generated.device)\n",
    "    with torch.no_grad():  \n",
    "        for _ in tnrange(length):\n",
    "            inputs = {'input_ids': generated.to(device)}\n",
    "            \n",
    "            outputs = model(**inputs)  # Note: we could also use 'past' with GPT-2/Transfo-XL/XLNet (cached hidden-states)\n",
    "\n",
    "            next_token_logits = outputs[0][0, -1, :] / temperature\n",
    "            \n",
    "            next_token = torch.multinomial(F.softmax(next_token_logits, dim=-1), num_samples=1)\n",
    "            generated = torch.cat((generated, next_token.to(device).unsqueeze(0)), dim=1)\n",
    "    return generated"
   ]
  },
  {
   "cell_type": "markdown",
   "metadata": {},
   "source": [
    "### Test with one example"
   ]
  },
  {
   "cell_type": "code",
   "execution_count": 10,
   "metadata": {
    "tags": []
   },
   "outputs": [
    {
     "name": "stdout",
     "output_type": "stream",
     "text": [
      "747\n"
     ]
    }
   ],
   "source": [
    "tokenizer = GPT2Tokenizer.from_pretrained(\"./saved/tokenizers/\")\n",
    "example = test_dataset[0]['input_ids']\n",
    "sep_idx = (example == tokenizer.sep_token_id).nonzero(as_tuple=False).item()\n",
    "print(sep_idx)"
   ]
  },
  {
   "cell_type": "code",
   "execution_count": 11,
   "metadata": {
    "tags": []
   },
   "outputs": [
    {
     "name": "stdout",
     "output_type": "stream",
     "text": [
      "cuda:0 cuda:0\n"
     ]
    },
    {
     "name": "stderr",
     "output_type": "stream",
     "text": [
      "/tmp/ipykernel_4437/2562843230.py:18: TqdmDeprecationWarning: Please use `tqdm.notebook.trange` instead of `tqdm.tnrange`\n",
      "  for _ in tnrange(length):\n"
     ]
    },
    {
     "data": {
      "application/vnd.jupyter.widget-view+json": {
       "model_id": "7eed8d5b6c6c41108819576202c44e65",
       "version_major": 2,
       "version_minor": 0
      },
      "text/plain": [
       "  0%|          | 0/200 [00:00<?, ?it/s]"
      ]
     },
     "metadata": {},
     "output_type": "display_data"
    }
   ],
   "source": [
    "device = torch.device('cuda' if torch.cuda.is_available() else 'cpu')\n",
    "\n",
    "context = example[:sep_idx].tolist()\n",
    "summary = example[sep_idx+1:].tolist()\n",
    "generated_text = sample_seq(model, context, length=200, device=device)\n",
    "generated_text = generated_text[0, len(context):].tolist()\n",
    "text = tokenizer.convert_ids_to_tokens(generated_text,skip_special_tokens=True)\n",
    "gpt2_summary = tokenizer.convert_tokens_to_string(text)"
   ]
  },
  {
   "cell_type": "code",
   "execution_count": 12,
   "metadata": {
    "tags": []
   },
   "outputs": [
    {
     "name": "stdout",
     "output_type": "stream",
     "text": [
      "######### Original Text #############\n",
      "<bos> Prison Link Cymru had 1,099 referrals in 2015-16 and said some ex-offenders were living rough for up to a year before finding suitable accommodation.\n",
      "Workers at the charity claim investment in housing would be cheaper than jailing homeless repeat offenders.\n",
      "The Welsh Government said more people than ever were getting help to address housing problems.\n",
      "Changes to the Housing Act in Wales, introduced in 2015, removed the right for prison leavers to be given priority for accommodation.\n",
      "Prison Link Cymru, which helps people find accommodation after their release, said things were generally good for women because issues such as children or domestic violence were now considered.\n",
      "However, the same could not be said for men, the charity said, because issues which often affect them, such as post traumatic stress disorder or drug dependency, were often viewed as less of a priority.\n",
      "Andrew Stevens, who works in Welsh prisons trying to secure housing for prison leavers, said the need for accommodation was \"chronic\".\n",
      "\"There's a desperate need for it, finding suitable accommodation for those leaving prison there is just a lack of it everywhere,\" he said.\n",
      "\"It could take six months to a year, without a lot of help they could be on the streets for six months.\n",
      "\"When you think of the consequences of either being on the street, especially with the cold weather at the moment or you may have a roof over your head, sometimes there is only one choice.\"\n",
      "Mr Stevens believes building more one-bedroom flats could help ease the problem.\n",
      "\"The average price is a hundred pounds a week to keep someone in a rented flat, prison is a lot more than that so I would imagine it would save the public purse quite a few pounds,\" he said.\n",
      "Official figures show 830 one-bedroom properties were built in the year to March 2016, of an overall total of 6,900 new properties in Wales.\n",
      "Marc, 50, who has been in and out of prison for the past 20 years for burglary offences, said he struggled to find accommodation each time he was released.\n",
      "He said he would ask himself: \"Where am I going to stay? Where am I going to live? Have I got somewhere where I can see my daughter.\"\n",
      "\"You're put out among the same sort of people doing the same sort of thing, and it's difficult, it's difficult to get away from it. It's like every man for himself, there's nothing.\"\n",
      "Marc has now found stable accommodation with homeless charity Emmaus and said it had been life changing.\n",
      "\"You feel safe, you got hot food, you've got company of people in similar situations to yourself but all dealing with different issues. It's a constructive, helpful atmosphere,\" he said.\n",
      "Tom Clarke, chief executive of Emmaus South Wales, agreed there was not enough support available.\n",
      "\"We do still see [people] homeless on the streets, so clearly they haven't got accommodation and haven't got provision,\" he said.\n",
      "\"I think the key is connecting people with the services they need. I don't delude myself that Emmaus can offer a one size fits all for everyone, we can't.\n",
      "\"But there must be other opportunities and given suitable encouragement I believe that can and should happen.\"\n",
      "A Welsh Government spokesman said the national pathway for homeless services to children, young people and adults in the secure estate had prevented many people from losing their home whilst serving their prison sentence.\n",
      "It added there were already significant demands for one-bedroom flats across the public and private sector and it was providing 20,000 new affordable homes in the next five years.\n",
      "\n",
      "######### GPT2 Summary ##############\n",
      " a my friend has had research has been seized. saw\" and stripped che better\n",
      "\n",
      "######### Ground Truth Summary ###########\n",
      "There is a \"chronic\" need for more housing for prison leavers in Wales, according to a charity.\n",
      "\n"
     ]
    }
   ],
   "source": [
    "print('######### Original Text #############')\n",
    "print(tokenizer.decode(context), end='\\n\\n')\n",
    "print('######### GPT2 Summary ##############')\n",
    "print(gpt2_summary, end='\\n\\n')\n",
    "print('######### Ground Truth Summary ###########')\n",
    "print(tokenizer.decode(summary, skip_special_tokens=True), end='\\n\\n')"
   ]
  },
  {
   "cell_type": "markdown",
   "metadata": {},
   "source": [
    "# Evaluation"
   ]
  },
  {
   "cell_type": "code",
   "execution_count": 16,
   "metadata": {},
   "outputs": [],
   "source": [
    "class Evaluator:\n",
    "    def __init__(self, hypothesis, reference):\n",
    "        self.hypothesis = hypothesis\n",
    "        self.reference = reference\n",
    "        \n",
    "        self.metrics={\n",
    "        'rouge1': self.rouge_N(1),\n",
    "        'rouge2': self.rouge_N(2),\n",
    "        'rougeL': self.rouge_L(),\n",
    "        'rougeLsum': self.rouge_L_sum(),\n",
    "        'bert': self.bert_Score()\n",
    "    }\n",
    "        \n",
    "    def rouge_L(self):\n",
    "        metric = load(\"rouge\")\n",
    "        metric_type = 'rougeL'\n",
    "        rg_score = metric.compute(predictions=self.hypothesis, references=self.reference, rouge_types=[metric_type])[metric_type]\n",
    "        print('rougeL computed')\n",
    "        return rg_score\n",
    "        \n",
    "    \n",
    "    def rouge_N(self, n=1):\n",
    "        metric = load(\"rouge\")\n",
    "        metric_type = f'rouge{n}'\n",
    "        rg_score = metric.compute(predictions=self.hypothesis, references=self.reference, rouge_types=[metric_type])[metric_type]\n",
    "        print('rougeN computed')\n",
    "        return rg_score\n",
    "\t\t\n",
    "\t\t\n",
    "    def rouge_L_sum(self):\n",
    "        metric = load(\"rouge\")\n",
    "        metric_type = 'rougeLsum'\n",
    "        rg_score = metric.compute(predictions=self.hypothesis, references=self.reference, rouge_types=[metric_type])[metric_type]\n",
    "        print('rougeLsum computed')\n",
    "        return rg_score\n",
    "\t\t\n",
    "        \n",
    "    def bert_Score(self):\n",
    "        metric = load(\"bertscore\")\n",
    "        all_preds= bert_score.score(self.hypothesis, self.reference, lang='en')\n",
    "        score = {\"precision\": (torch.sum(all_preds[0].cpu())/all_preds[0].cpu().numel()).item(), \"recall\": (torch.sum(all_preds[1].cpu())/all_preds[1].cpu().numel()).item(), \"f1\":\n",
    "                (torch.sum(all_preds[2].cpu())/all_preds[2].cpu().numel()).item()}\n",
    "        print('Bert computed')\n",
    "        return score\n",
    "    \n",
    "    def rouge_L_evaluation(self):\n",
    "        # Tokenize hypothesos and reference sentences\n",
    "        hypothesis_tokens = self.hypothesis.split()\n",
    "        reference_tokens = self.reference.split()\n",
    "\n",
    "        # Compute the length of the longest common subsequence\n",
    "        lcs = lcs_length(hypothesis_tokens, reference_tokens)\n",
    "\n",
    "        # Compute precision, recall, and f1 score\n",
    "        precision = lcs / len(hypothesis_tokens)\n",
    "        recall = lcs / len(reference_tokens)\n",
    "        f1_score = 2 * ((precision * recall) / (precision + recall + 1e-7))\n",
    "\n",
    "        return {\"precision\": precision, \"recall\": recall, \"f1\": f1_score}\n",
    "\n",
    "\n",
    "    def rouge_N_evaluation(self, n=1):\n",
    "        # split sentences into n-grams\n",
    "        def ngrams(sentence, n):\n",
    "            # use a list comprehension to generate n-grams\n",
    "            return Counter([tuple(sentence[i:i+n]) for i in range(len(sentence) - n + 1)])\n",
    "\n",
    "        # compute the n-grams for the candidate and reference sentences\n",
    "        hypothesis_ngrams = ngrams(self.hypothesis.split(\" \"), n)\n",
    "        reference_ngrams = ngrams(self.reference.split(\" \"), n)\n",
    "\n",
    "        # count the number of shared n-grams\n",
    "        shared_ngrams = hypothesis_ngrams & reference_ngrams\n",
    "        shared_count = sum(shared_ngrams.values())\n",
    "\n",
    "        # calculate precision, recall, and f1 score\n",
    "        precision = shared_count / sum(hypothesis_ngrams.values())\n",
    "        recall = shared_count / sum(reference_ngrams.values())\n",
    "        f1_score = 2 * ((precision * recall) / (precision + recall + 1e-7))\n",
    "\n",
    "        return {\"precision\": precision, \"recall\": recall, \"f1\": f1_score}\n",
    "    \n",
    "    def rouge_L_sum_evaluation(self):\n",
    "        # Tokenize candidate and reference summaries\n",
    "        hypothesis_tokens = self.hypothesis.split()\n",
    "        reference_tokens = self.reference.split()\n",
    "\n",
    "        # Compute the length of the longest common subsequence for summarizations\n",
    "        lcs_sum = lcs_length(hypothesis_tokens, reference_tokens)\n",
    "\n",
    "        # Compute precision, recall, and f1 score\n",
    "        precision = lcs_sum / len(hypothesis_tokens)\n",
    "        recall = lcs_sum / len(reference_tokens)\n",
    "        f1_score = 2 * ((precision * recall) / (precision + recall + 1e-7))\n",
    "\n",
    "        return {\"precision\": precision, \"recall\": recall, \"f1\": f1_score}\n",
    "    \n",
    "    @staticmethod\n",
    "    def lcs_length(s1, s2):\n",
    "            m, n = len(s1), len(s2)\n",
    "            dp = [[0] * (n + 1) for _ in range(m + 1)]\n",
    "\n",
    "            for i in range(1, m + 1):\n",
    "                for j in range(1, n + 1):\n",
    "                    if s1[i - 1] == s2[j - 1]:\n",
    "                        dp[i][j] = dp[i - 1][j - 1] + 1\n",
    "                    else:\n",
    "                        dp[i][j] = max(dp[i - 1][j], dp[i][j - 1])\n",
    "\n",
    "            return dp[m][n]\n",
    "        \n",
    "        \n",
    "def evaluate_model(test_data, model, tokenizer, device):\n",
    "        reference=[]\n",
    "        candidate=[]\n",
    "        for input_text_ids, summary in zip(test_data['input_ids'], test_data['summary']):\n",
    "            input_text_ids=torch.tensor(input_text_ids).clone().detach().reshape((1,-1)).to(device)\n",
    "            generated_summary = model.generate(input_text_ids, max_length=1000)  # Generate summary using your model's generate function\n",
    "            gen_summary= tokenizer.decode(generated_summary[0], skip_special_tokens=True)\n",
    "            reference.append(summary)\n",
    "            candidate.append(gen_summary)\n",
    "        scores = Evaluator(candidate, reference).metrics\n",
    "        \n",
    "        return scores\n",
    "    \n"
   ]
  },
  {
   "cell_type": "code",
   "execution_count": 18,
   "metadata": {
    "tags": []
   },
   "outputs": [
    {
     "name": "stderr",
     "output_type": "stream",
     "text": [
      "Loading cached processed dataset at /home/studio-lab-user/.cache/huggingface/datasets/xsum/default/1.2.0/082863bf4754ee058a5b6f6525d0cb2b18eadb62c7b370b095d1364050a52b71/cache-18c21e355d9702c0.arrow\n",
      "Loading cached processed dataset at /home/studio-lab-user/.cache/huggingface/datasets/xsum/default/1.2.0/082863bf4754ee058a5b6f6525d0cb2b18eadb62c7b370b095d1364050a52b71/cache-dc2a37b59a3b91fa.arrow\n",
      "Loading cached processed dataset at /home/studio-lab-user/.cache/huggingface/datasets/xsum/default/1.2.0/082863bf4754ee058a5b6f6525d0cb2b18eadb62c7b370b095d1364050a52b71/cache-3bbbb0860cb2d26a.arrow\n",
      "Input length of input_ids is 1024, but ``max_length`` is set to 1000. This can lead to unexpected behavior. You should consider increasing ``config.max_length`` or ``max_length``.\n",
      "Input length of input_ids is 1024, but ``max_length`` is set to 1000. This can lead to unexpected behavior. You should consider increasing ``config.max_length`` or ``max_length``.\n"
     ]
    },
    {
     "name": "stdout",
     "output_type": "stream",
     "text": [
      "Dataset({\n",
      "    features: ['document', 'summary', 'id', 'input_ids', 'attention_mask'],\n",
      "    num_rows: 100\n",
      "})\n"
     ]
    },
    {
     "name": "stderr",
     "output_type": "stream",
     "text": [
      "Input length of input_ids is 1024, but ``max_length`` is set to 1000. This can lead to unexpected behavior. You should consider increasing ``config.max_length`` or ``max_length``.\n",
      "Input length of input_ids is 1024, but ``max_length`` is set to 1000. This can lead to unexpected behavior. You should consider increasing ``config.max_length`` or ``max_length``.\n",
      "Input length of input_ids is 1024, but ``max_length`` is set to 1000. This can lead to unexpected behavior. You should consider increasing ``config.max_length`` or ``max_length``.\n",
      "Input length of input_ids is 1024, but ``max_length`` is set to 1000. This can lead to unexpected behavior. You should consider increasing ``config.max_length`` or ``max_length``.\n",
      "Input length of input_ids is 1024, but ``max_length`` is set to 1000. This can lead to unexpected behavior. You should consider increasing ``config.max_length`` or ``max_length``.\n",
      "Input length of input_ids is 1024, but ``max_length`` is set to 1000. This can lead to unexpected behavior. You should consider increasing ``config.max_length`` or ``max_length``.\n",
      "Input length of input_ids is 1024, but ``max_length`` is set to 1000. This can lead to unexpected behavior. You should consider increasing ``config.max_length`` or ``max_length``.\n",
      "Input length of input_ids is 1024, but ``max_length`` is set to 1000. This can lead to unexpected behavior. You should consider increasing ``config.max_length`` or ``max_length``.\n",
      "Input length of input_ids is 1024, but ``max_length`` is set to 1000. This can lead to unexpected behavior. You should consider increasing ``config.max_length`` or ``max_length``.\n",
      "Input length of input_ids is 1024, but ``max_length`` is set to 1000. This can lead to unexpected behavior. You should consider increasing ``config.max_length`` or ``max_length``.\n",
      "Input length of input_ids is 1024, but ``max_length`` is set to 1000. This can lead to unexpected behavior. You should consider increasing ``config.max_length`` or ``max_length``.\n",
      "Input length of input_ids is 1024, but ``max_length`` is set to 1000. This can lead to unexpected behavior. You should consider increasing ``config.max_length`` or ``max_length``.\n",
      "Input length of input_ids is 1024, but ``max_length`` is set to 1000. This can lead to unexpected behavior. You should consider increasing ``config.max_length`` or ``max_length``.\n",
      "Input length of input_ids is 1024, but ``max_length`` is set to 1000. This can lead to unexpected behavior. You should consider increasing ``config.max_length`` or ``max_length``.\n",
      "Input length of input_ids is 1024, but ``max_length`` is set to 1000. This can lead to unexpected behavior. You should consider increasing ``config.max_length`` or ``max_length``.\n",
      "Input length of input_ids is 1024, but ``max_length`` is set to 1000. This can lead to unexpected behavior. You should consider increasing ``config.max_length`` or ``max_length``.\n",
      "Input length of input_ids is 1024, but ``max_length`` is set to 1000. This can lead to unexpected behavior. You should consider increasing ``config.max_length`` or ``max_length``.\n",
      "Input length of input_ids is 1024, but ``max_length`` is set to 1000. This can lead to unexpected behavior. You should consider increasing ``config.max_length`` or ``max_length``.\n",
      "Input length of input_ids is 1024, but ``max_length`` is set to 1000. This can lead to unexpected behavior. You should consider increasing ``config.max_length`` or ``max_length``.\n",
      "Input length of input_ids is 1024, but ``max_length`` is set to 1000. This can lead to unexpected behavior. You should consider increasing ``config.max_length`` or ``max_length``.\n",
      "Input length of input_ids is 1024, but ``max_length`` is set to 1000. This can lead to unexpected behavior. You should consider increasing ``config.max_length`` or ``max_length``.\n",
      "Input length of input_ids is 1024, but ``max_length`` is set to 1000. This can lead to unexpected behavior. You should consider increasing ``config.max_length`` or ``max_length``.\n",
      "Input length of input_ids is 1024, but ``max_length`` is set to 1000. This can lead to unexpected behavior. You should consider increasing ``config.max_length`` or ``max_length``.\n",
      "Input length of input_ids is 1024, but ``max_length`` is set to 1000. This can lead to unexpected behavior. You should consider increasing ``config.max_length`` or ``max_length``.\n",
      "Input length of input_ids is 1024, but ``max_length`` is set to 1000. This can lead to unexpected behavior. You should consider increasing ``config.max_length`` or ``max_length``.\n",
      "Input length of input_ids is 1024, but ``max_length`` is set to 1000. This can lead to unexpected behavior. You should consider increasing ``config.max_length`` or ``max_length``.\n",
      "Input length of input_ids is 1024, but ``max_length`` is set to 1000. This can lead to unexpected behavior. You should consider increasing ``config.max_length`` or ``max_length``.\n",
      "Input length of input_ids is 1024, but ``max_length`` is set to 1000. This can lead to unexpected behavior. You should consider increasing ``config.max_length`` or ``max_length``.\n",
      "Input length of input_ids is 1024, but ``max_length`` is set to 1000. This can lead to unexpected behavior. You should consider increasing ``config.max_length`` or ``max_length``.\n",
      "Input length of input_ids is 1024, but ``max_length`` is set to 1000. This can lead to unexpected behavior. You should consider increasing ``config.max_length`` or ``max_length``.\n",
      "Input length of input_ids is 1024, but ``max_length`` is set to 1000. This can lead to unexpected behavior. You should consider increasing ``config.max_length`` or ``max_length``.\n",
      "Input length of input_ids is 1024, but ``max_length`` is set to 1000. This can lead to unexpected behavior. You should consider increasing ``config.max_length`` or ``max_length``.\n",
      "Input length of input_ids is 1024, but ``max_length`` is set to 1000. This can lead to unexpected behavior. You should consider increasing ``config.max_length`` or ``max_length``.\n",
      "Input length of input_ids is 1024, but ``max_length`` is set to 1000. This can lead to unexpected behavior. You should consider increasing ``config.max_length`` or ``max_length``.\n",
      "Input length of input_ids is 1024, but ``max_length`` is set to 1000. This can lead to unexpected behavior. You should consider increasing ``config.max_length`` or ``max_length``.\n",
      "Input length of input_ids is 1024, but ``max_length`` is set to 1000. This can lead to unexpected behavior. You should consider increasing ``config.max_length`` or ``max_length``.\n",
      "Input length of input_ids is 1024, but ``max_length`` is set to 1000. This can lead to unexpected behavior. You should consider increasing ``config.max_length`` or ``max_length``.\n",
      "Input length of input_ids is 1024, but ``max_length`` is set to 1000. This can lead to unexpected behavior. You should consider increasing ``config.max_length`` or ``max_length``.\n",
      "Input length of input_ids is 1024, but ``max_length`` is set to 1000. This can lead to unexpected behavior. You should consider increasing ``config.max_length`` or ``max_length``.\n",
      "Input length of input_ids is 1024, but ``max_length`` is set to 1000. This can lead to unexpected behavior. You should consider increasing ``config.max_length`` or ``max_length``.\n",
      "Input length of input_ids is 1024, but ``max_length`` is set to 1000. This can lead to unexpected behavior. You should consider increasing ``config.max_length`` or ``max_length``.\n",
      "Input length of input_ids is 1024, but ``max_length`` is set to 1000. This can lead to unexpected behavior. You should consider increasing ``config.max_length`` or ``max_length``.\n",
      "Input length of input_ids is 1024, but ``max_length`` is set to 1000. This can lead to unexpected behavior. You should consider increasing ``config.max_length`` or ``max_length``.\n",
      "Input length of input_ids is 1024, but ``max_length`` is set to 1000. This can lead to unexpected behavior. You should consider increasing ``config.max_length`` or ``max_length``.\n",
      "Input length of input_ids is 1024, but ``max_length`` is set to 1000. This can lead to unexpected behavior. You should consider increasing ``config.max_length`` or ``max_length``.\n",
      "Input length of input_ids is 1024, but ``max_length`` is set to 1000. This can lead to unexpected behavior. You should consider increasing ``config.max_length`` or ``max_length``.\n",
      "Input length of input_ids is 1024, but ``max_length`` is set to 1000. This can lead to unexpected behavior. You should consider increasing ``config.max_length`` or ``max_length``.\n",
      "Input length of input_ids is 1024, but ``max_length`` is set to 1000. This can lead to unexpected behavior. You should consider increasing ``config.max_length`` or ``max_length``.\n",
      "Input length of input_ids is 1024, but ``max_length`` is set to 1000. This can lead to unexpected behavior. You should consider increasing ``config.max_length`` or ``max_length``.\n",
      "Input length of input_ids is 1024, but ``max_length`` is set to 1000. This can lead to unexpected behavior. You should consider increasing ``config.max_length`` or ``max_length``.\n",
      "Input length of input_ids is 1024, but ``max_length`` is set to 1000. This can lead to unexpected behavior. You should consider increasing ``config.max_length`` or ``max_length``.\n",
      "Input length of input_ids is 1024, but ``max_length`` is set to 1000. This can lead to unexpected behavior. You should consider increasing ``config.max_length`` or ``max_length``.\n",
      "Input length of input_ids is 1024, but ``max_length`` is set to 1000. This can lead to unexpected behavior. You should consider increasing ``config.max_length`` or ``max_length``.\n",
      "Input length of input_ids is 1024, but ``max_length`` is set to 1000. This can lead to unexpected behavior. You should consider increasing ``config.max_length`` or ``max_length``.\n",
      "Input length of input_ids is 1024, but ``max_length`` is set to 1000. This can lead to unexpected behavior. You should consider increasing ``config.max_length`` or ``max_length``.\n",
      "Input length of input_ids is 1024, but ``max_length`` is set to 1000. This can lead to unexpected behavior. You should consider increasing ``config.max_length`` or ``max_length``.\n",
      "Input length of input_ids is 1024, but ``max_length`` is set to 1000. This can lead to unexpected behavior. You should consider increasing ``config.max_length`` or ``max_length``.\n",
      "Input length of input_ids is 1024, but ``max_length`` is set to 1000. This can lead to unexpected behavior. You should consider increasing ``config.max_length`` or ``max_length``.\n",
      "Input length of input_ids is 1024, but ``max_length`` is set to 1000. This can lead to unexpected behavior. You should consider increasing ``config.max_length`` or ``max_length``.\n",
      "Input length of input_ids is 1024, but ``max_length`` is set to 1000. This can lead to unexpected behavior. You should consider increasing ``config.max_length`` or ``max_length``.\n",
      "Input length of input_ids is 1024, but ``max_length`` is set to 1000. This can lead to unexpected behavior. You should consider increasing ``config.max_length`` or ``max_length``.\n",
      "Input length of input_ids is 1024, but ``max_length`` is set to 1000. This can lead to unexpected behavior. You should consider increasing ``config.max_length`` or ``max_length``.\n",
      "Input length of input_ids is 1024, but ``max_length`` is set to 1000. This can lead to unexpected behavior. You should consider increasing ``config.max_length`` or ``max_length``.\n",
      "Input length of input_ids is 1024, but ``max_length`` is set to 1000. This can lead to unexpected behavior. You should consider increasing ``config.max_length`` or ``max_length``.\n",
      "Input length of input_ids is 1024, but ``max_length`` is set to 1000. This can lead to unexpected behavior. You should consider increasing ``config.max_length`` or ``max_length``.\n",
      "Input length of input_ids is 1024, but ``max_length`` is set to 1000. This can lead to unexpected behavior. You should consider increasing ``config.max_length`` or ``max_length``.\n",
      "Input length of input_ids is 1024, but ``max_length`` is set to 1000. This can lead to unexpected behavior. You should consider increasing ``config.max_length`` or ``max_length``.\n",
      "Input length of input_ids is 1024, but ``max_length`` is set to 1000. This can lead to unexpected behavior. You should consider increasing ``config.max_length`` or ``max_length``.\n",
      "Input length of input_ids is 1024, but ``max_length`` is set to 1000. This can lead to unexpected behavior. You should consider increasing ``config.max_length`` or ``max_length``.\n",
      "Input length of input_ids is 1024, but ``max_length`` is set to 1000. This can lead to unexpected behavior. You should consider increasing ``config.max_length`` or ``max_length``.\n",
      "Input length of input_ids is 1024, but ``max_length`` is set to 1000. This can lead to unexpected behavior. You should consider increasing ``config.max_length`` or ``max_length``.\n",
      "Input length of input_ids is 1024, but ``max_length`` is set to 1000. This can lead to unexpected behavior. You should consider increasing ``config.max_length`` or ``max_length``.\n",
      "Input length of input_ids is 1024, but ``max_length`` is set to 1000. This can lead to unexpected behavior. You should consider increasing ``config.max_length`` or ``max_length``.\n",
      "Input length of input_ids is 1024, but ``max_length`` is set to 1000. This can lead to unexpected behavior. You should consider increasing ``config.max_length`` or ``max_length``.\n",
      "Input length of input_ids is 1024, but ``max_length`` is set to 1000. This can lead to unexpected behavior. You should consider increasing ``config.max_length`` or ``max_length``.\n",
      "Input length of input_ids is 1024, but ``max_length`` is set to 1000. This can lead to unexpected behavior. You should consider increasing ``config.max_length`` or ``max_length``.\n",
      "Input length of input_ids is 1024, but ``max_length`` is set to 1000. This can lead to unexpected behavior. You should consider increasing ``config.max_length`` or ``max_length``.\n",
      "Input length of input_ids is 1024, but ``max_length`` is set to 1000. This can lead to unexpected behavior. You should consider increasing ``config.max_length`` or ``max_length``.\n",
      "Input length of input_ids is 1024, but ``max_length`` is set to 1000. This can lead to unexpected behavior. You should consider increasing ``config.max_length`` or ``max_length``.\n",
      "Input length of input_ids is 1024, but ``max_length`` is set to 1000. This can lead to unexpected behavior. You should consider increasing ``config.max_length`` or ``max_length``.\n",
      "Input length of input_ids is 1024, but ``max_length`` is set to 1000. This can lead to unexpected behavior. You should consider increasing ``config.max_length`` or ``max_length``.\n",
      "Input length of input_ids is 1024, but ``max_length`` is set to 1000. This can lead to unexpected behavior. You should consider increasing ``config.max_length`` or ``max_length``.\n",
      "Input length of input_ids is 1024, but ``max_length`` is set to 1000. This can lead to unexpected behavior. You should consider increasing ``config.max_length`` or ``max_length``.\n",
      "Input length of input_ids is 1024, but ``max_length`` is set to 1000. This can lead to unexpected behavior. You should consider increasing ``config.max_length`` or ``max_length``.\n",
      "Input length of input_ids is 1024, but ``max_length`` is set to 1000. This can lead to unexpected behavior. You should consider increasing ``config.max_length`` or ``max_length``.\n",
      "Input length of input_ids is 1024, but ``max_length`` is set to 1000. This can lead to unexpected behavior. You should consider increasing ``config.max_length`` or ``max_length``.\n",
      "Input length of input_ids is 1024, but ``max_length`` is set to 1000. This can lead to unexpected behavior. You should consider increasing ``config.max_length`` or ``max_length``.\n",
      "Input length of input_ids is 1024, but ``max_length`` is set to 1000. This can lead to unexpected behavior. You should consider increasing ``config.max_length`` or ``max_length``.\n",
      "Input length of input_ids is 1024, but ``max_length`` is set to 1000. This can lead to unexpected behavior. You should consider increasing ``config.max_length`` or ``max_length``.\n",
      "Input length of input_ids is 1024, but ``max_length`` is set to 1000. This can lead to unexpected behavior. You should consider increasing ``config.max_length`` or ``max_length``.\n",
      "Input length of input_ids is 1024, but ``max_length`` is set to 1000. This can lead to unexpected behavior. You should consider increasing ``config.max_length`` or ``max_length``.\n",
      "Input length of input_ids is 1024, but ``max_length`` is set to 1000. This can lead to unexpected behavior. You should consider increasing ``config.max_length`` or ``max_length``.\n",
      "Input length of input_ids is 1024, but ``max_length`` is set to 1000. This can lead to unexpected behavior. You should consider increasing ``config.max_length`` or ``max_length``.\n",
      "Input length of input_ids is 1024, but ``max_length`` is set to 1000. This can lead to unexpected behavior. You should consider increasing ``config.max_length`` or ``max_length``.\n",
      "Input length of input_ids is 1024, but ``max_length`` is set to 1000. This can lead to unexpected behavior. You should consider increasing ``config.max_length`` or ``max_length``.\n",
      "Input length of input_ids is 1024, but ``max_length`` is set to 1000. This can lead to unexpected behavior. You should consider increasing ``config.max_length`` or ``max_length``.\n",
      "Input length of input_ids is 1024, but ``max_length`` is set to 1000. This can lead to unexpected behavior. You should consider increasing ``config.max_length`` or ``max_length``.\n",
      "Input length of input_ids is 1024, but ``max_length`` is set to 1000. This can lead to unexpected behavior. You should consider increasing ``config.max_length`` or ``max_length``.\n"
     ]
    },
    {
     "name": "stdout",
     "output_type": "stream",
     "text": [
      "rougeN computed\n",
      "rougeN computed\n",
      "rougeL computed\n",
      "rougeLsum computed\n"
     ]
    },
    {
     "name": "stderr",
     "output_type": "stream",
     "text": [
      "Some weights of the model checkpoint at roberta-large were not used when initializing RobertaModel: ['lm_head.bias', 'lm_head.layer_norm.bias', 'lm_head.layer_norm.weight', 'lm_head.dense.bias', 'lm_head.decoder.weight', 'lm_head.dense.weight']\n",
      "- This IS expected if you are initializing RobertaModel from the checkpoint of a model trained on another task or with another architecture (e.g. initializing a BertForSequenceClassification model from a BertForPreTraining model).\n",
      "- This IS NOT expected if you are initializing RobertaModel from the checkpoint of a model that you expect to be exactly identical (initializing a BertForSequenceClassification model from a BertForSequenceClassification model).\n"
     ]
    },
    {
     "name": "stdout",
     "output_type": "stream",
     "text": [
      "Bert computed\n",
      "Bert Scores: Precision  0.807993471622467 | Recall  0.9127316474914551 | F1Score  0.8570243120193481\n",
      "Rouge-1 Score:  0.1480441478945206\n",
      "Rouge-2 Score:  0.13917138190263162\n",
      "Rouge-L Score:  0.14683244625024486\n",
      "Rouge-L-summ Score:  0.1477547511224928\n"
     ]
    }
   ],
   "source": [
    "xsum_dataset = dataset.map(preprocessor.preprocess)\n",
    "# xsum_dataset.set_format(type='torch', columns=['input_ids', 'attention_mask'])\n",
    "test_dataset = xsum_dataset[\"test\"]\n",
    "print(test_dataset)\n",
    "scores=evaluate_model(test_dataset, model, tokenizer, device)\n",
    "bert_scores=scores['bert']\n",
    "rouge_1_score=scores['rouge1']\n",
    "rouge_2_score=scores['rouge2']\n",
    "rouge_L_score=scores['rougeL']\n",
    "rouge_L_sum_score=scores['rougeLsum']\n",
    "print('Bert Scores: Precision ',bert_scores['precision'],'| Recall ',bert_scores['recall'],'| F1Score ',bert_scores['f1'])\n",
    "print('Rouge-1 Score: ',rouge_1_score)\n",
    "print('Rouge-2 Score: ',rouge_2_score)\n",
    "print('Rouge-L Score: ',rouge_L_score)\n",
    "print('Rouge-L-summ Score: ',rouge_L_sum_score)"
   ]
  },
  {
   "cell_type": "code",
   "execution_count": null,
   "metadata": {},
   "outputs": [],
   "source": []
  }
 ],
 "metadata": {
  "kernelspec": {
   "display_name": "default:Python",
   "language": "python",
   "name": "conda-env-default-py"
  },
  "language_info": {
   "codemirror_mode": {
    "name": "ipython",
    "version": 3
   },
   "file_extension": ".py",
   "mimetype": "text/x-python",
   "name": "python",
   "nbconvert_exporter": "python",
   "pygments_lexer": "ipython3",
   "version": "3.9.16"
  }
 },
 "nbformat": 4,
 "nbformat_minor": 4
}
