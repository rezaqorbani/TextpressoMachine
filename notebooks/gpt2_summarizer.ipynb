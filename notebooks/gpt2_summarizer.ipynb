{
 "cells": [
  {
   "cell_type": "code",
   "execution_count": 4,
   "metadata": {},
   "outputs": [],
   "source": [
    "import sys\n",
    "\n",
    "import torch\n",
    "import torch.nn as nn\n",
    "import torch.nn.functional as F\n",
    "from torch.utils.data import DataLoader\n",
    "from torch.optim import AdamW\n",
    "\n",
    "import numpy as np\n",
    "\n",
    "from pytorch_lightning import Trainer\n",
    "from pytorch_lightning.callbacks import EarlyStopping, LearningRateMonitor, ModelCheckpoint\n",
    "import pytorch_lightning as pl\n",
    "\n",
    "from transformers import AutoTokenizer\n",
    "from transformers import GPT2Tokenizer\n",
    "from transformers import get_linear_schedule_with_warmup\n",
    "from transformers import GPT2LMHeadModel\n",
    "from datasets import load_dataset\n",
    "\n",
    "\n"
   ]
  },
  {
   "cell_type": "markdown",
   "metadata": {
    "tags": []
   },
   "source": [
    "## Data"
   ]
  },
  {
   "cell_type": "code",
   "execution_count": 5,
   "metadata": {},
   "outputs": [
    {
     "name": "stderr",
     "output_type": "stream",
     "text": [
      "Found cached dataset xsum (/home/reza/.cache/huggingface/datasets/xsum/default/1.2.0/082863bf4754ee058a5b6f6525d0cb2b18eadb62c7b370b095d1364050a52b71)\n"
     ]
    },
    {
     "data": {
      "application/vnd.jupyter.widget-view+json": {
       "model_id": "c7bcb1dc32fb42c98be69683a62457dd",
       "version_major": 2,
       "version_minor": 0
      },
      "text/plain": [
       "  0%|          | 0/3 [00:00<?, ?it/s]"
      ]
     },
     "metadata": {},
     "output_type": "display_data"
    },
    {
     "name": "stdout",
     "output_type": "stream",
     "text": [
      "{'document': 'The full cost of damage in Newton Stewart, one of the areas worst affected, is still being assessed.\\nRepair work is ongoing in Hawick and many roads in Peeblesshire remain badly affected by standing water.\\nTrains on the west coast mainline face disruption due to damage at the Lamington Viaduct.\\nMany businesses and householders were affected by flooding in Newton Stewart after the River Cree overflowed into the town.\\nFirst Minister Nicola Sturgeon visited the area to inspect the damage.\\nThe waters breached a retaining wall, flooding many commercial properties on Victoria Street - the main shopping thoroughfare.\\nJeanette Tate, who owns the Cinnamon Cafe which was badly affected, said she could not fault the multi-agency response once the flood hit.\\nHowever, she said more preventative work could have been carried out to ensure the retaining wall did not fail.\\n\"It is difficult but I do think there is so much publicity for Dumfries and the Nith - and I totally appreciate that - but it is almost like we\\'re neglected or forgotten,\" she said.\\n\"That may not be true but it is perhaps my perspective over the last few days.\\n\"Why were you not ready to help us a bit more when the warning and the alarm alerts had gone out?\"\\nMeanwhile, a flood alert remains in place across the Borders because of the constant rain.\\nPeebles was badly hit by problems, sparking calls to introduce more defences in the area.\\nScottish Borders Council has put a list on its website of the roads worst affected and drivers have been urged not to ignore closure signs.\\nThe Labour Party\\'s deputy Scottish leader Alex Rowley was in Hawick on Monday to see the situation first hand.\\nHe said it was important to get the flood protection plan right but backed calls to speed up the process.\\n\"I was quite taken aback by the amount of damage that has been done,\" he said.\\n\"Obviously it is heart-breaking for people who have been forced out of their homes and the impact on businesses.\"\\nHe said it was important that \"immediate steps\" were taken to protect the areas most vulnerable and a clear timetable put in place for flood prevention plans.\\nHave you been affected by flooding in Dumfries and Galloway or the Borders? Tell us about your experience of the situation and how it was handled. Email us on selkirk.news@bbc.co.uk or dumfries@bbc.co.uk.', 'summary': 'Clean-up operations are continuing across the Scottish Borders and Dumfries and Galloway after flooding caused by Storm Frank.', 'id': '35232142'}\n"
     ]
    }
   ],
   "source": [
    "class XSumPreprocessor:\n",
    "    def __init__(self, tokenizer, max_input_length, max_target_length, prefix='summarize'):\n",
    "        self.tokenizer = tokenizer\n",
    "        self.max_input_length = max_input_length\n",
    "        self.max_target_length = max_target_length\n",
    "        self.prefix = prefix\n",
    "  \n",
    "    def preprocess(self, examples):\n",
    "        # encode the code-docstring pairs\n",
    "        texts = examples['document']\n",
    "        summaries = examples['summary']\n",
    "        \n",
    "        inputs = [self.prefix + text for text in texts]\n",
    "        model_inputs = self.tokenizer(inputs, max_length=self.max_input_length, padding=\"max_length\", truncation=True)\n",
    "\n",
    "        # encode the summaries\n",
    "        labels = self.tokenizer(summaries, max_length=self.max_target_length, padding=\"max_length\", truncation=True).input_ids\n",
    "\n",
    "        # important: we need to replace the index of the padding tokens by -100\n",
    "        # such that they are not taken into account by the CrossEntropyLoss\n",
    "        labels_with_ignore_index = []\n",
    "        for labels_example in labels:\n",
    "            labels_example = [label if label != 0 else -100 for label in labels_example]\n",
    "            labels_with_ignore_index.append(labels_example)\n",
    "        \n",
    "        model_inputs[\"labels\"] = labels_with_ignore_index\n",
    "\n",
    "        return model_inputs\n",
    "    \n",
    "dataset = load_dataset(\"xsum\")\n",
    "print(dataset['train'][0])\n",
    "  "
   ]
  },
  {
   "cell_type": "code",
   "execution_count": 8,
   "metadata": {},
   "outputs": [],
   "source": [
    "max_input_length = 512\n",
    "max_target_length = 512\n",
    "prefix = \"summarize\"\n",
    "model_name = \"gpt2\"\n",
    "\n",
    "# tokenizer=AutoTokenizer.from_pretrained(model_name)\n",
    "tokenizer = GPT2Tokenizer.from_pretrained(\"gpt2\")\n",
    "tokenizer.pad_token = tokenizer.eos_token\n",
    "\n",
    "preprocessor = XSumPreprocessor(tokenizer=tokenizer,\n",
    "                                max_input_length=max_input_length,\n",
    "                                max_target_length=max_target_length,\n",
    "                                prefix=prefix)\n",
    "processor = preprocessor.preprocess\n",
    "dataset = dataset.map(processor, batched=True)"
   ]
  },
  {
   "cell_type": "markdown",
   "metadata": {
    "tags": []
   },
   "source": [
    "## Model"
   ]
  },
  {
   "cell_type": "code",
   "execution_count": null,
   "metadata": {},
   "outputs": [],
   "source": [
    "class GPT2PreTrained(pl.LightningModule):\n",
    "    def __init__(self, lr=5e-5, max_epochs=15, warmup_steps=1000):\n",
    "        super().__init__()\n",
    "        self.model = GPT2LMHeadModel.from_pretrained(\"gpt2\")\n",
    "        self.save_hyperparameters()\n",
    "        self.val_dataloader_ = None\n",
    "        self.test_dataloader_ = None\n",
    "        self.train_dataloader_ = None\n",
    "\n",
    "    def forward(self, input_ids, labels, attention_mask):     \n",
    "        outputs = self.model(input_ids=input_ids, attention_mask=attention_mask, labels=labels)\n",
    "        return outputs\n",
    "    \n",
    "    def common_step(self, batch, batch_idx):\n",
    "        outputs = self(**batch)\n",
    "        loss = outputs.loss\n",
    "\n",
    "        return loss\n",
    "      \n",
    "    def training_step(self, batch, batch_idx):\n",
    "        loss = self.common_step(batch, batch_idx)     \n",
    "        # logs metrics for each training_step,\n",
    "        # and the average across the epoch\n",
    "        self.log(\"training_loss\", loss)\n",
    "\n",
    "        return loss\n",
    "\n",
    "    def validation_step(self, batch, batch_idx):\n",
    "        loss = self.common_step(batch, batch_idx)     \n",
    "        self.log(\"validation_loss\", loss, on_epoch=True)\n",
    "\n",
    "        return loss\n",
    "\n",
    "    def test_step(self, batch, batch_idx):\n",
    "        loss = self.common_step(batch, batch_idx)     \n",
    "\n",
    "        return loss\n",
    "\n",
    "    def configure_optimizers(self):\n",
    "        # create optimizer\n",
    "        optimizer = AdamW(self.model.parameters(), lr=self.hparams.lr)\n",
    "        # create learning rate scheduler\n",
    "        training_steps = self.hparams.max_epochs * len(self.train_dataloader_)\n",
    "        lr_scheduler = {'scheduler': get_linear_schedule_with_warmup(optimizer,\n",
    "                                                    num_warmup_steps=self.hparams.warmup_steps,\n",
    "                                                    num_training_steps=training_steps),\n",
    "                        'name': 'learning_rate',\n",
    "                        'interval':'step',\n",
    "                        'frequency': 1}\n",
    "        \n",
    "        return {\"optimizer\": optimizer, \"lr_scheduler\": lr_scheduler}\n",
    "\n",
    "    def set_train_dataloader(self, train_dataloader):\n",
    "        self.train_dataloader_ = train_dataloader\n",
    "\n",
    "    def set_valid_dataloader(self, valid_dataloader):\n",
    "        self.val_dataloader_ = valid_dataloader\n",
    "\n",
    "    def set_test_dataloader(self, test_dataloader):\n",
    "        self.test_dataloader_ = test_dataloader\n",
    "\n",
    "    def train_dataloader(self):\n",
    "        return self.train_dataloader_\n",
    "    \n",
    "    def val_dataloader(self):\n",
    "        return self.val_dataloader_\n",
    "    \n",
    "    def test_dataloader(self):\n",
    "        return self.test_dataloader_\n"
   ]
  },
  {
   "cell_type": "markdown",
   "metadata": {},
   "source": [
    "## Training"
   ]
  },
  {
   "cell_type": "code",
   "execution_count": null,
   "metadata": {
    "tags": []
   },
   "outputs": [
    {
     "ename": "NameError",
     "evalue": "name 'dataset' is not defined",
     "output_type": "error",
     "traceback": [
      "\u001b[0;31m---------------------------------------------------------------------------\u001b[0m",
      "\u001b[0;31mNameError\u001b[0m                                 Traceback (most recent call last)",
      "Cell \u001b[0;32mIn[1], line 6\u001b[0m\n\u001b[1;32m      3\u001b[0m learning_rate \u001b[39m=\u001b[39m \u001b[39m5e-5\u001b[39m\n\u001b[1;32m      4\u001b[0m max_epochs \u001b[39m=\u001b[39m \u001b[39m10\u001b[39m\n\u001b[0;32m----> 6\u001b[0m dataset\u001b[39m.\u001b[39mset_format(\u001b[39mtype\u001b[39m\u001b[39m=\u001b[39m\u001b[39m\"\u001b[39m\u001b[39mtorch\u001b[39m\u001b[39m\"\u001b[39m, columns\u001b[39m=\u001b[39m[\u001b[39m'\u001b[39m\u001b[39minput_ids\u001b[39m\u001b[39m'\u001b[39m, \u001b[39m'\u001b[39m\u001b[39mattention_mask\u001b[39m\u001b[39m'\u001b[39m, \u001b[39m'\u001b[39m\u001b[39mlabels\u001b[39m\u001b[39m'\u001b[39m])\n\u001b[1;32m      8\u001b[0m train_dataloader \u001b[39m=\u001b[39m DataLoader(dataset[\u001b[39m'\u001b[39m\u001b[39mtrain[:10\u001b[39m\u001b[39m%\u001b[39m\u001b[39m]\u001b[39m\u001b[39m'\u001b[39m], shuffle\u001b[39m=\u001b[39m\u001b[39mTrue\u001b[39;00m, batch_size\u001b[39m=\u001b[39mbatch_size)\n\u001b[1;32m      9\u001b[0m valid_dataloader \u001b[39m=\u001b[39m DataLoader(dataset[\u001b[39m'\u001b[39m\u001b[39mvalidation\u001b[39m\u001b[39m'\u001b[39m], batch_size\u001b[39m=\u001b[39mbatch_size)\n",
      "\u001b[0;31mNameError\u001b[0m: name 'dataset' is not defined"
     ]
    }
   ],
   "source": [
    "# hyperparameters\n",
    "batch_size = 1000\n",
    "learning_rate = 5e-5\n",
    "max_epochs = 10\n",
    "\n",
    "dataset.set_format(type=\"torch\", columns=['input_ids', 'attention_mask', 'labels'])\n",
    "\n",
    "train_dataloader = DataLoader(dataset['train[:10%]'], shuffle=True, batch_size=batch_size)\n",
    "valid_dataloader = DataLoader(dataset['validation'], batch_size=batch_size)\n",
    "test_dataloader = DataLoader(dataset['test'], batch_size=batch_size)\n",
    "\n",
    "early_stop_callback = EarlyStopping(\n",
    "    monitor='validation_loss',\n",
    "    patience=3,\n",
    "    strict=False,\n",
    "    verbose=False,\n",
    "    mode='min'\n",
    ")\n",
    "lr_monitor = LearningRateMonitor()\n",
    "checkpoint_callback = ModelCheckpoint(dirpath='/saved/models/GPT2Summerizer', monitor='validation_loss', mode='min')\n",
    "\n",
    "trainer = Trainer(accelerator=\"gpu\", \n",
    "                  #default_root_dir=\"/content/drive/MyDrive/T5/Notebooks/Checkpoints\", \n",
    "                  callbacks=[early_stop_callback, lr_monitor, checkpoint_callback])\n",
    "\n",
    "\n",
    "model = GPT2PreTrained(lr=learning_rate, max_epochs=max_epochs)\n",
    "model.set_train_dataloader(train_dataloader)\n",
    "model.set_valid_dataloader(valid_dataloader)\n",
    "model.set_test_dataloader(test_dataloader)\n",
    "\n",
    "trainer.fit(model)"
   ]
  }
 ],
 "metadata": {
  "kernelspec": {
   "display_name": ".venv",
   "language": "python",
   "name": "python3"
  },
  "language_info": {
   "codemirror_mode": {
    "name": "ipython",
    "version": 3
   },
   "file_extension": ".py",
   "mimetype": "text/x-python",
   "name": "python",
   "nbconvert_exporter": "python",
   "pygments_lexer": "ipython3",
   "version": "3.10.6"
  }
 },
 "nbformat": 4,
 "nbformat_minor": 4
}
